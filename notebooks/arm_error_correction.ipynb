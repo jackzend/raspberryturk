{
 "cells": [
  {
   "cell_type": "markdown",
   "metadata": {},
   "source": [
    "# Raspberry Turk Robotic Arm\n",
    "\n",
    "## Introduction\n",
    "\n",
    "The Raspberry Turk uses a robotic arm ([SCARA](https://en.wikipedia.org/wiki/SCARA)) to pick up and move chess pieces. The arm consists of two links, whose rotation is each controlled by a separate servo. This allows it to move freely in the X-Y direction while remaining rigid in the Z direction. There is a third servo that controls the vertical motion at the end of the arm.\n",
    "\n",
    "<center><img src=\"/notebooks/assets/img/overheadarm.gif\" width=\"480px\"/></center>\n",
    "\n",
    "In order to move pieces, the robot needs to be able to adjust the servos rotation $(s_1, s_2)$ to accurately move the arm to any given $x, y$ coordinate on the board.\n",
    "\n",
    "$s_1, s_2 = g(x, y)$\n",
    "\n",
    "**Our goal in this notebook is to create this function $g(x, y)$.**\n",
    "\n",
    "## Working Backwards\n",
    "\n",
    "We'll eventualy get to $g(x, y)$, but to get there we need to work backwards. To begin, let's first formalize what we know.\n",
    "\n",
    "<center><img src=\"/notebooks/assets/img/arm_diagram.png\" width=\"360px\"/></center>\n",
    "\n",
    "\n",
    "The arm consists of two links of length $l_i$. Since we know the lengths of the links, we can come up with an equation to determine $x, y$ given their angles $(\\theta_i)$.\n",
    "\n",
    "$$f_x(\\theta_1, \\theta_2) = x_{offset} + cos(\\theta_1) \\cdot l_1 + cos(\\theta_1 + \\theta_2) \\cdot l_2$$\n",
    "$$f_y(\\theta_1, \\theta_2) = y_{offset} + sin(\\theta_1) \\cdot l_1 + sin(\\theta_1 + \\theta_2) \\cdot l_2$$\n",
    "\n",
    "Now, in order to derive $\\theta_i$ we need to learn more about the servo and how it's attached to the arm.\n",
    "\n",
    "<center><img src=\"/notebooks/assets/img/dx_series_goal.png\" width=\"480px\"/></center>\n",
    "    <center><a href=\"http://support.robotis.com/en/product/actuator/dynamixel/ax_series/dxl_ax_actuator.htm#Actuator_Address_1E\"><i>Diagram from Robotis Dynamixel AX-12A support manual</i></a></center>\n",
    "\n",
    "You can adjust the rotation of the servo by setting the goal position address in the RAM of the servo. The goal position address is a number between 0 and 1023 (10 bit value) that maps to a 0° to 300° rotation. This equates to an accuracy of 0.29° per unit change in value (not bad!).\n",
    "\n",
    "<center><img src=\"/notebooks/assets/img/ax12mid.jpg\" width=\"480px\"/></center>\n",
    "\n",
    "The servo is attached to a pinion gear which rotates a larger gear that the link of the arm is directly attached to. The pinion gear has 32 teeth and the larger gear has 76 teeth. This gives us a gear ratio of $\\frac{76}{32}$ or $2.375 : 1$. From now on we'll refer to this gear ratio as $\\phi$. Additionally, we must account of the rotational offset of the link when the servo goal position has a value of $0$. We'll call this rotational offset $\\theta'_i$. Given this, we can how calculate $\\theta_i$ given the goal position ($s_i$) of the servo.\n",
    "\n",
    "$$\\theta_i(s_i) = \\theta'_i + \\frac{1023-s_i}{1023}\\cdot 300°\\cdot \\phi$$\n",
    "\n",
    "Now, we have everything we need to convert any $s_1, s_2$ to an $x, y$.\n",
    "\n",
    "$$f_x(s_1, s_2) = x_{offset} + \\cos(\\frac{1023-s_1}{1023}\\cdot 300°\\cdot \\phi + \\theta'_1)\\cdot l_1 + \\cos((\\frac{1023-s_1}{1023}\\cdot 300°\\cdot \\phi + \\theta'_1) + (\\frac{1023-s_2}{1023}\\cdot 300°\\cdot \\phi + \\theta'_2)) \\cdot l_2 \\\\[10pt]$$\n",
    "$$f_y(s_1, s_2) = y_{offset} + \\sin(\\frac{1023-s_1}{1023}\\cdot 300°\\cdot \\phi + \\theta'_{s_1})\\cdot l_1 + \\sin((\\frac{1023-s_1}{1023}\\cdot 300°\\cdot \\phi + \\theta'_1) + (\\frac{1023-s_2}{1023}\\cdot 300°\\cdot \\phi + \\theta'_2)) \\cdot l_2$$\n",
    "\n",
    "However, both $f_x$ and $f_y$ are assuming ideal conditions. In reality there is error introduced by inaccuracies in measurements, and unaccounted for real world effects on the system. In order to achieve better accuracy in reality we need to better understand this error component and account for it.\n",
    "\n",
    "$$f'_x(s_1, s_2) = f_x(s_1, s_2) + \\epsilon_x(s_1, s_2)$$\n",
    "$$f'_y(s_1, s_2) = f_y(s_1, s_2) + \\epsilon_y(s_1, s_2)$$\n",
    "\n",
    "$f'_x$ and $f'_y$ represent the actual real world $x, y$ given any $s_1, s_2$, where $\\epsilon_x$ and $\\epsilon_y$ is the respective error. In a more simple form:\n",
    "\n",
    "$$f'(s) = f(s) + \\epsilon(s)$$\n",
    "\n",
    "To achieve a $f'(s)$ that is suffienct for our purposes we need to, as accurately as possible, model $\\epsilon$."
   ]
  },
  {
   "cell_type": "markdown",
   "metadata": {
    "collapsed": true
   },
   "source": [
    "## Data\n",
    "\n",
    "In order to model $\\epsilon$ we first need to collect a sample of data points. To do this I manually moved the arm to to 81 points and recorded the real $x, y$ and the respective $s_1, s_2$."
   ]
  },
  {
   "cell_type": "code",
   "execution_count": 1,
   "metadata": {
    "collapsed": false
   },
   "outputs": [
    {
     "ename": "ImportError",
     "evalue": "\nImporting the multiarray numpy extension module failed.  Most\nlikely you are trying to import a failed build of numpy.\nIf you're working with a numpy git repo, try `git clean -xdf` (removes all\nfiles not under version control).  Otherwise reinstall numpy.\n",
     "output_type": "error",
     "traceback": [
      "\u001B[0;31m\u001B[0m",
      "\u001B[0;31mImportError\u001B[0mTraceback (most recent call last)",
      "\u001B[0;32m<ipython-input-1-047641d44d31>\u001B[0m in \u001B[0;36m<module>\u001B[0;34m()\u001B[0m\n\u001B[1;32m      1\u001B[0m \u001B[0;34m\u001B[0m\u001B[0m\n\u001B[1;32m      2\u001B[0m \u001B[0;32mimport\u001B[0m \u001B[0mproject\u001B[0m\u001B[0;34m\u001B[0m\u001B[0m\n\u001B[0;32m----> 3\u001B[0;31m \u001B[0;32mimport\u001B[0m \u001B[0mnumpy\u001B[0m \u001B[0;32mas\u001B[0m \u001B[0mnp\u001B[0m\u001B[0;34m\u001B[0m\u001B[0m\n\u001B[0m\u001B[1;32m      4\u001B[0m \u001B[0;32mimport\u001B[0m \u001B[0mpandas\u001B[0m \u001B[0;32mas\u001B[0m \u001B[0mpd\u001B[0m\u001B[0;34m\u001B[0m\u001B[0m\n\u001B[1;32m      5\u001B[0m \u001B[0;34m\u001B[0m\u001B[0m\n",
      "\u001B[0;32m/Users/jackzender/Desktop/raspberryturk/venv/lib/python2.7/site-packages/numpy/__init__.py\u001B[0m in \u001B[0;36m<module>\u001B[0;34m()\u001B[0m\n\u001B[1;32m    140\u001B[0m         \u001B[0;32mreturn\u001B[0m \u001B[0mloader\u001B[0m\u001B[0;34m(\u001B[0m\u001B[0;34m*\u001B[0m\u001B[0mpackages\u001B[0m\u001B[0;34m,\u001B[0m \u001B[0;34m**\u001B[0m\u001B[0moptions\u001B[0m\u001B[0;34m)\u001B[0m\u001B[0;34m\u001B[0m\u001B[0m\n\u001B[1;32m    141\u001B[0m \u001B[0;34m\u001B[0m\u001B[0m\n\u001B[0;32m--> 142\u001B[0;31m     \u001B[0;32mfrom\u001B[0m \u001B[0;34m.\u001B[0m \u001B[0;32mimport\u001B[0m \u001B[0madd_newdocs\u001B[0m\u001B[0;34m\u001B[0m\u001B[0m\n\u001B[0m\u001B[1;32m    143\u001B[0m     __all__ = ['add_newdocs',\n\u001B[1;32m    144\u001B[0m                \u001B[0;34m'ModuleDeprecationWarning'\u001B[0m\u001B[0;34m,\u001B[0m\u001B[0;34m\u001B[0m\u001B[0m\n",
      "\u001B[0;32m/Users/jackzender/Desktop/raspberryturk/venv/lib/python2.7/site-packages/numpy/add_newdocs.py\u001B[0m in \u001B[0;36m<module>\u001B[0;34m()\u001B[0m\n\u001B[1;32m     11\u001B[0m \u001B[0;32mfrom\u001B[0m \u001B[0m__future__\u001B[0m \u001B[0;32mimport\u001B[0m \u001B[0mdivision\u001B[0m\u001B[0;34m,\u001B[0m \u001B[0mabsolute_import\u001B[0m\u001B[0;34m,\u001B[0m \u001B[0mprint_function\u001B[0m\u001B[0;34m\u001B[0m\u001B[0m\n\u001B[1;32m     12\u001B[0m \u001B[0;34m\u001B[0m\u001B[0m\n\u001B[0;32m---> 13\u001B[0;31m \u001B[0;32mfrom\u001B[0m \u001B[0mnumpy\u001B[0m\u001B[0;34m.\u001B[0m\u001B[0mlib\u001B[0m \u001B[0;32mimport\u001B[0m \u001B[0madd_newdoc\u001B[0m\u001B[0;34m\u001B[0m\u001B[0m\n\u001B[0m\u001B[1;32m     14\u001B[0m \u001B[0;34m\u001B[0m\u001B[0m\n\u001B[1;32m     15\u001B[0m \u001B[0;31m###############################################################################\u001B[0m\u001B[0;34m\u001B[0m\u001B[0;34m\u001B[0m\u001B[0m\n",
      "\u001B[0;32m/Users/jackzender/Desktop/raspberryturk/venv/lib/python2.7/site-packages/numpy/lib/__init__.py\u001B[0m in \u001B[0;36m<module>\u001B[0;34m()\u001B[0m\n\u001B[1;32m      6\u001B[0m \u001B[0;32mfrom\u001B[0m \u001B[0mnumpy\u001B[0m\u001B[0;34m.\u001B[0m\u001B[0mversion\u001B[0m \u001B[0;32mimport\u001B[0m \u001B[0mversion\u001B[0m \u001B[0;32mas\u001B[0m \u001B[0m__version__\u001B[0m\u001B[0;34m\u001B[0m\u001B[0m\n\u001B[1;32m      7\u001B[0m \u001B[0;34m\u001B[0m\u001B[0m\n\u001B[0;32m----> 8\u001B[0;31m \u001B[0;32mfrom\u001B[0m \u001B[0;34m.\u001B[0m\u001B[0mtype_check\u001B[0m \u001B[0;32mimport\u001B[0m \u001B[0;34m*\u001B[0m\u001B[0;34m\u001B[0m\u001B[0m\n\u001B[0m\u001B[1;32m      9\u001B[0m \u001B[0;32mfrom\u001B[0m \u001B[0;34m.\u001B[0m\u001B[0mindex_tricks\u001B[0m \u001B[0;32mimport\u001B[0m \u001B[0;34m*\u001B[0m\u001B[0;34m\u001B[0m\u001B[0m\n\u001B[1;32m     10\u001B[0m \u001B[0;32mfrom\u001B[0m \u001B[0;34m.\u001B[0m\u001B[0mfunction_base\u001B[0m \u001B[0;32mimport\u001B[0m \u001B[0;34m*\u001B[0m\u001B[0;34m\u001B[0m\u001B[0m\n",
      "\u001B[0;32m/Users/jackzender/Desktop/raspberryturk/venv/lib/python2.7/site-packages/numpy/lib/type_check.py\u001B[0m in \u001B[0;36m<module>\u001B[0;34m()\u001B[0m\n\u001B[1;32m      9\u001B[0m            'common_type']\n\u001B[1;32m     10\u001B[0m \u001B[0;34m\u001B[0m\u001B[0m\n\u001B[0;32m---> 11\u001B[0;31m \u001B[0;32mimport\u001B[0m \u001B[0mnumpy\u001B[0m\u001B[0;34m.\u001B[0m\u001B[0mcore\u001B[0m\u001B[0;34m.\u001B[0m\u001B[0mnumeric\u001B[0m \u001B[0;32mas\u001B[0m \u001B[0m_nx\u001B[0m\u001B[0;34m\u001B[0m\u001B[0m\n\u001B[0m\u001B[1;32m     12\u001B[0m \u001B[0;32mfrom\u001B[0m \u001B[0mnumpy\u001B[0m\u001B[0;34m.\u001B[0m\u001B[0mcore\u001B[0m\u001B[0;34m.\u001B[0m\u001B[0mnumeric\u001B[0m \u001B[0;32mimport\u001B[0m \u001B[0masarray\u001B[0m\u001B[0;34m,\u001B[0m \u001B[0masanyarray\u001B[0m\u001B[0;34m,\u001B[0m \u001B[0marray\u001B[0m\u001B[0;34m,\u001B[0m \u001B[0misnan\u001B[0m\u001B[0;34m,\u001B[0m\u001B[0;31m \u001B[0m\u001B[0;31m\\\u001B[0m\u001B[0;34m\u001B[0m\u001B[0m\n\u001B[1;32m     13\u001B[0m                 \u001B[0mobj2sctype\u001B[0m\u001B[0;34m,\u001B[0m \u001B[0mzeros\u001B[0m\u001B[0;34m\u001B[0m\u001B[0m\n",
      "\u001B[0;32m/Users/jackzender/Desktop/raspberryturk/venv/lib/python2.7/site-packages/numpy/core/__init__.py\u001B[0m in \u001B[0;36m<module>\u001B[0;34m()\u001B[0m\n\u001B[1;32m     22\u001B[0m files not under version control).  Otherwise reinstall numpy.\n\u001B[1;32m     23\u001B[0m \"\"\"\n\u001B[0;32m---> 24\u001B[0;31m     \u001B[0;32mraise\u001B[0m \u001B[0mImportError\u001B[0m\u001B[0;34m(\u001B[0m\u001B[0mmsg\u001B[0m\u001B[0;34m)\u001B[0m\u001B[0;34m\u001B[0m\u001B[0m\n\u001B[0m\u001B[1;32m     25\u001B[0m \u001B[0;34m\u001B[0m\u001B[0m\n\u001B[1;32m     26\u001B[0m \u001B[0;32mfor\u001B[0m \u001B[0menvkey\u001B[0m \u001B[0;32min\u001B[0m \u001B[0menv_added\u001B[0m\u001B[0;34m:\u001B[0m\u001B[0;34m\u001B[0m\u001B[0m\n",
      "\u001B[0;31mImportError\u001B[0m: \nImporting the multiarray numpy extension module failed.  Most\nlikely you are trying to import a failed build of numpy.\nIf you're working with a numpy git repo, try `git clean -xdf` (removes all\nfiles not under version control).  Otherwise reinstall numpy.\n"
     ]
    }
   ],
   "source": [
    "import project\n",
    "import numpy as np\n",
    "import pandas as pd\n",
    "\n",
    "data = pd.read_csv(project.path('data', 'raw', 'arm_error.csv'))"
   ]
  },
  {
   "cell_type": "code",
   "execution_count": null,
   "metadata": {
    "collapsed": false
   },
   "outputs": [],
   "source": [
    "data.head()"
   ]
  },
  {
   "cell_type": "markdown",
   "metadata": {},
   "source": [
    "We need two new columns for $x$ and $y$ error. We can calculate this by first calulating the theoretical coordinate and then subtracting the observed coordinate."
   ]
  },
  {
   "cell_type": "code",
   "execution_count": null,
   "metadata": {
    "collapsed": true
   },
   "outputs": [],
   "source": [
    "dynamixel_range = 300.0\n",
    "gear_ratio = 76.0 / 32.0\n",
    "l_1 = 15.25\n",
    "l_2 = 13.75\n",
    "x_offset = 17.0\n",
    "y_offset = -2.97\n",
    "gripper_offset = 0.5\n",
    "\n",
    "def f_with_theta(s, theta_prime_1, theta_prime_2):\n",
    "    theta_1 = ((1023.0-s[:,0])/1023.0) * np.deg2rad(dynamixel_range / gear_ratio) + theta_prime_1\n",
    "    theta_2 = ((1023.0-s[:,1])/1023.0) * np.deg2rad(dynamixel_range / gear_ratio) + theta_prime_2\n",
    "    x = x_offset + np.cos(theta_1) * l_1 + np.cos(theta_1 + theta_2) * l_2 + np.cos(theta_1 + theta_2 + np.pi/2.0) * gripper_offset\n",
    "    y = y_offset + np.sin(theta_1) * l_1 + np.sin(theta_1 + theta_2) * l_2 + np.sin(theta_1 + theta_2 + np.pi/2.0) * gripper_offset\n",
    "    #ret = np.array([x, y]).T\n",
    "    return np.array([x, y]).T"
   ]
  },
  {
   "cell_type": "markdown",
   "metadata": {},
   "source": [
    "## Optimization of Theta Values\n",
    "\n",
    "$\\theta'_1$ and $\\theta'_2$ were measured by hand to be 4° and 40° respectively. To find a more accurate measurement, we will brute force values close to those and find the two values that results in the smallest mean squared error when comparing the theoretical results to the known values in the dataset. This will provide a better starting point when solving for $\\epsilon$."
   ]
  },
  {
   "cell_type": "code",
   "execution_count": null,
   "metadata": {
    "collapsed": false
   },
   "outputs": [],
   "source": [
    "from sklearn.metrics import mean_squared_error\n",
    "from scipy.optimize import brute\n",
    "\n",
    "def mse(theta):\n",
    "    xy = f_with_theta(data.values[:,0:2], theta[0], theta[1])\n",
    "    return np.array([mean_squared_error(data.x, xy[:,0]), mean_squared_error(data.y, xy[:,1])]).mean()\n",
    "\n",
    "theta_prime_1_estimate = np.deg2rad(4.0)\n",
    "theta_prime_2_estimate = np.deg2rad(40.0)\n",
    "\n",
    "def slice_for_value(value):\n",
    "    inc = value * 0.2\n",
    "    return slice(value - inc, value + inc)\n",
    "\n",
    "t = brute(mse, [slice_for_value(theta_prime_1_estimate),\n",
    "                slice_for_value(theta_prime_2_estimate)])\n",
    "\n",
    "\n",
    "print(\"θ′: {}\".format(np.rad2deg(t)))"
   ]
  },
  {
   "cell_type": "code",
   "execution_count": null,
   "metadata": {
    "collapsed": false
   },
   "outputs": [],
   "source": [
    "def f(s):\n",
    "    return f_with_theta(s, t[0], t[1])"
   ]
  },
  {
   "cell_type": "code",
   "execution_count": null,
   "metadata": {
    "collapsed": false
   },
   "outputs": [],
   "source": [
    "theoretical_xy = f(data.values[:,0:2])\n",
    "data[\"x_theory\"] = theoretical_xy[:,0]\n",
    "data[\"y_theory\"] = theoretical_xy[:,1]\n",
    "data[\"x_error\"] = data.x - data.x_theory\n",
    "data[\"y_error\"] = data.y - data.y_theory"
   ]
  },
  {
   "cell_type": "code",
   "execution_count": null,
   "metadata": {
    "collapsed": false,
    "scrolled": true
   },
   "outputs": [],
   "source": [
    "data.head()"
   ]
  },
  {
   "cell_type": "markdown",
   "metadata": {},
   "source": [
    "## Visualizing Error\n",
    "\n",
    "Below is a visualization of the error. The x and y axis on the graph represent inches from the bottom left corner of the chessboard. The actual $x,y$ is in blue, and the theoretical values are red. The equation is pretty accurate, but in the far corners, there is noticable error."
   ]
  },
  {
   "cell_type": "code",
   "execution_count": null,
   "metadata": {
    "collapsed": false,
    "scrolled": true
   },
   "outputs": [],
   "source": [
    "import matplotlib.pyplot as plt\n",
    "\n",
    "def scatter(x, y):\n",
    "    plt.scatter(data.x, data.y, color='blue')\n",
    "    plt.scatter(x, y, color='red', marker=',')\n",
    "    plt.show()\n",
    "\n",
    "scatter(data.x_theory, data.y_theory)"
   ]
  },
  {
   "cell_type": "markdown",
   "metadata": {},
   "source": [
    "Below is another way to visualize the error. This time the x and y axes represent servo values."
   ]
  },
  {
   "cell_type": "code",
   "execution_count": null,
   "metadata": {
    "collapsed": false,
    "scrolled": true
   },
   "outputs": [],
   "source": [
    "from matplotlib import cm\n",
    "from matplotlib.colors import Normalize\n",
    "\n",
    "plt.scatter(data.s1, data.s2, c=data.x_error, cmap=cm.coolwarm, norm=Normalize(-0.5, 0.5), linewidth=0.4, s=40.0)\n",
    "plt.xlim(0,1023)\n",
    "plt.ylim(0,1023)\n",
    "plt.show()\n",
    "plt.scatter(data.s1, data.s2, c=data.y_error, cmap=cm.coolwarm, norm=Normalize(-0.5, 0.5), linewidth=0.4, s=40.0)\n",
    "plt.xlim(0,1023)\n",
    "plt.ylim(0,1023)\n",
    "plt.show()"
   ]
  },
  {
   "cell_type": "markdown",
   "metadata": {},
   "source": [
    "## Model\n",
    "\n",
    "The model is a simple polynomial regression."
   ]
  },
  {
   "cell_type": "code",
   "execution_count": null,
   "metadata": {
    "collapsed": false
   },
   "outputs": [],
   "source": [
    "from sklearn.model_selection import cross_val_score\n",
    "from sklearn.model_selection import ShuffleSplit\n",
    "from sklearn.linear_model import LinearRegression\n",
    "from sklearn.preprocessing import PolynomialFeatures\n",
    "from sklearn.pipeline import Pipeline\n",
    "\n",
    "S_train = data.values[:,0:2]\n",
    "z_train = data.values[:,6:8]\n",
    "poly = PolynomialFeatures(degree=3)\n",
    "x_error_model = Pipeline([('poly', poly), ('linear', LinearRegression(normalize=True))])\n",
    "y_error_model = Pipeline([('poly', poly), ('linear', LinearRegression(normalize=True))])\n",
    "\n",
    "cv = ShuffleSplit(n_splits=3, test_size=0.3, random_state=0)\n",
    "cvs_x = cross_val_score(x_error_model, S_train, y=z_train[:, 0], scoring='neg_mean_squared_error', cv=cv)\n",
    "cvs_y = cross_val_score(y_error_model, S_train, y=z_train[:, 1], scoring='neg_mean_squared_error', cv=cv)\n",
    "print \"Cross validation error for x: {}\".format(cvs_x)\n",
    "print \"Cross validation error for y: {}\".format(cvs_y)\n",
    "\n",
    "x_error_model.fit(S_train, z_train[:, 0])\n",
    "y_error_model.fit(S_train, z_train[:, 1])\n",
    "\n",
    "def predict_error(s):\n",
    "    return np.array([x_error_model.predict(s), y_error_model.predict(s)]).T"
   ]
  },
  {
   "cell_type": "markdown",
   "metadata": {},
   "source": [
    "Below is a plot of the `predict_error` function with the real error plotted in circles on top."
   ]
  },
  {
   "cell_type": "code",
   "execution_count": null,
   "metadata": {
    "collapsed": false
   },
   "outputs": [],
   "source": [
    "from itertools import product\n",
    "\n",
    "s_plot = np.array(list(product(np.linspace(0.0, 1023.0, 32), np.linspace(0.0, 1023.0, 32))))\n",
    "predicted_error = predict_error(s_plot)\n",
    "x_error_predicted = predicted_error[:,0]\n",
    "y_error_predicted = predicted_error[:,1]\n",
    "\n",
    "plt.scatter(s_plot[:,0], s_plot[:,1], c=x_error_predicted, marker=',', cmap=cm.coolwarm, norm=Normalize(-0.5, 0.5), linewidth=0.0, s=120.0)\n",
    "plt.scatter(data.s1, data.s2, c=data.x_error, cmap=cm.coolwarm, norm=Normalize(-0.5, 0.5), linewidth=0.4, s=40.0)\n",
    "plt.xlim(-20,1043)\n",
    "plt.ylim(-20,1043)\n",
    "plt.show()\n",
    "\n",
    "plt.scatter(s_plot[:,0], s_plot[:,1], c=y_error_predicted, marker=',',cmap=cm.coolwarm, norm=Normalize(-0.5, 0.5), linewidth=0.0, s=120.0)\n",
    "plt.scatter(data.s1, data.s2, c=data.y_error, cmap=cm.coolwarm, norm=Normalize(-0.5, 0.5), linewidth=0.4, s=40.0)\n",
    "plt.xlim(-20,1043)\n",
    "plt.ylim(-20,1043)\n",
    "plt.show()"
   ]
  },
  {
   "cell_type": "markdown",
   "metadata": {},
   "source": [
    "## Building the Final Equation\n",
    "\n",
    "Using the `predict_error` function $f'(s)$ can now be created,."
   ]
  },
  {
   "cell_type": "code",
   "execution_count": null,
   "metadata": {
    "collapsed": false
   },
   "outputs": [],
   "source": [
    "def f_prime(s):\n",
    "    return f(s) + predict_error(s)"
   ]
  },
  {
   "cell_type": "markdown",
   "metadata": {},
   "source": [
    "To visualize the difference $f'(s)$ makes, we can, once again, plot the predicted $x,y$ (red) on top of the real $x,y$ (blue) for each given $s_1,s_2$."
   ]
  },
  {
   "cell_type": "code",
   "execution_count": null,
   "metadata": {
    "collapsed": false,
    "scrolled": true
   },
   "outputs": [],
   "source": [
    "xy_theoretical_with_error = f_prime(data.values[:,0:2])\n",
    "data['x_theory_with_error'] = xy_theoretical_with_error[:,0]\n",
    "data['y_theory_with_error'] = xy_theoretical_with_error[:,1]\n",
    "\n",
    "scatter(data.x_theory_with_error, data.y_theory_with_error)"
   ]
  },
  {
   "cell_type": "markdown",
   "metadata": {},
   "source": [
    "Now that we have a working $f'(s)$, we can set out to accomplish our original goal, to create $g(x, y)$. The function $f'$ takes a $s_1, s_2$ and returns $x, y$. The function $g$ takes $x, y$ and returns $s_1, s_2$. In order to find $g$, we just need to invert $f'$! But $f'$ doesn't invert easily and we actually don't need $g$ to work over all values of $s_1,s_2$–only when $s_1,s_2 \\in \\{0, 1, 2, ..., 1023\\}$. So instead, let's solve for every possible $s_1,s_2$ combination, and then create a [lookup tree](https://en.wikipedia.org/wiki/K-d_tree) with the results. We can the query the lookup tree to find the closest $s_1,s_2$ for any given point $x,y$."
   ]
  },
  {
   "cell_type": "code",
   "execution_count": null,
   "metadata": {
    "collapsed": false
   },
   "outputs": [],
   "source": [
    "srange = np.array(list(product(range(1024), range(1024))))\n",
    "pts = f_prime(srange)"
   ]
  },
  {
   "cell_type": "code",
   "execution_count": null,
   "metadata": {
    "collapsed": false
   },
   "outputs": [],
   "source": [
    "from sklearn.neighbors import KDTree\n",
    "tree = KDTree(pts, metric='euclidean')"
   ]
  },
  {
   "cell_type": "code",
   "execution_count": null,
   "metadata": {
    "collapsed": false
   },
   "outputs": [],
   "source": [
    "def g(pts):\n",
    "    return np.array(srange[tree.query(pts, return_distance=False)]).reshape(-1,2)"
   ]
  },
  {
   "cell_type": "markdown",
   "metadata": {},
   "source": [
    "## Visualizing the Final Equation\n",
    "\n",
    "Below are two plots visualizing the function $g(x,y)$ over the entire 18\"x18\" chessboard. The first plot is $s_1$ and the second is $s_2$."
   ]
  },
  {
   "cell_type": "code",
   "execution_count": null,
   "metadata": {
    "collapsed": false,
    "scrolled": false
   },
   "outputs": [],
   "source": [
    "pts_grid = np.array(list(product(np.linspace(0.0, 18.0, 32), np.linspace(0.0, 18.0, 32))))\n",
    "projected_s = g(pts_grid)\n",
    "\n",
    "plt.scatter(pts_grid[:,0], pts_grid[:,1], c=projected_s[:,0], marker=',', cmap=cm.coolwarm, norm=Normalize(0, 1023), linewidth=0.0, s=120.0)\n",
    "plt.xlim(0,18)\n",
    "plt.ylim(0,18)\n",
    "plt.colorbar()\n",
    "plt.title(\"s1\")\n",
    "plt.show()\n",
    "\n",
    "plt.scatter(pts_grid[:,0], pts_grid[:,1], c=projected_s[:,1], marker=',', cmap=cm.coolwarm, norm=Normalize(0, 1023), linewidth=0.0, s=120.0)\n",
    "plt.xlim(0,18)\n",
    "plt.ylim(0,18)\n",
    "plt.colorbar()\n",
    "plt.title(\"s2\")\n",
    "plt.show()"
   ]
  },
  {
   "cell_type": "markdown",
   "metadata": {},
   "source": [
    "## Saving the Model\n",
    "\n",
    "The $x,y$ associated with the each $s_1,s_2$ from 0 to 1023 is saved to disk so the lookup tree can be created on demand for the Raspberry Turk to use."
   ]
  },
  {
   "cell_type": "code",
   "execution_count": null,
   "metadata": {
    "collapsed": false
   },
   "outputs": [],
   "source": [
    "path = project.path('data', 'processed', 'arm_movement_engine_pts.npy')\n",
    "with open(path, 'w') as f:\n",
    "    np.save(f, pts)"
   ]
  }
 ],
 "metadata": {
  "anaconda-cloud": {},
  "kernelspec": {
   "name": "python2",
   "language": "python",
   "display_name": "Python 2"
  },
  "language_info": {
   "codemirror_mode": {
    "name": "ipython",
    "version": 2
   },
   "file_extension": ".py",
   "mimetype": "text/x-python",
   "name": "python",
   "nbconvert_exporter": "python",
   "pygments_lexer": "ipython2",
   "version": "2.7.13"
  }
 },
 "nbformat": 4,
 "nbformat_minor": 1
}